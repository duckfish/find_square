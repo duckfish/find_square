{
 "cells": [
  {
   "cell_type": "code",
   "execution_count": 34,
   "metadata": {},
   "outputs": [],
   "source": [
    "import cv2\n",
    "import numpy as np\n",
    "import imageio\n",
    "import os"
   ]
  },
  {
   "cell_type": "code",
   "execution_count": 35,
   "metadata": {},
   "outputs": [],
   "source": [
    "def add_salt_and_pepper_noise(\n",
    "        img: np.ndarray, salt_prob: float = 0.05, pepper_prob: float = 0.05\n",
    "    ) -> np.ndarray:\n",
    "        \"\"\"\n",
    "        Add salt and pepper noise to an img.\n",
    "\n",
    "        Args:\n",
    "            img (np.ndarray): The input img.\n",
    "            salt_prob (float): Probability of adding salt noise.\n",
    "            pepper_prob (float): Probability of adding pepper noise.\n",
    "\n",
    "        Returns:\n",
    "            np.ndarray: The img with added salt and pepper noise.\n",
    "        \"\"\"\n",
    "        total_pixels = img.size\n",
    "\n",
    "        # Add salt noise\n",
    "        num_salt = int(total_pixels * salt_prob)\n",
    "        salt_coords = [np.random.randint(0, i - 1, num_salt) for i in img.shape]\n",
    "        img[salt_coords[0], salt_coords[1]] = 255\n",
    "\n",
    "        # Add pepper noise\n",
    "        num_pepper = int(total_pixels * pepper_prob)\n",
    "        pepper_coords = [np.random.randint(0, i - 1, num_pepper) for i in img.shape]\n",
    "        img[pepper_coords[0], pepper_coords[1]] = 0\n",
    "\n",
    "        return img\n",
    "\n",
    "def generate_img() -> np.ndarray:\n",
    "    \"\"\"\n",
    "    Generate a noisy image with random straight lines and a filled square.\n",
    "    Args:\n",
    "        square_size (int): The size of the square to be drawn.\n",
    "        lines_numb (int): The number of random straight lines to draw.\n",
    "        line_thickness (int): The thickness of the lines.\n",
    "    Returns:\n",
    "        np.ndarray: The generated image as a NumPy array.\n",
    "    \"\"\"\n",
    "    # Create a blank white image\n",
    "    img = np.ones((1000, 1000), dtype=np.uint8) * 255\n",
    "    img = add_salt_and_pepper_noise(img)\n",
    "    return img"
   ]
  },
  {
   "cell_type": "code",
   "execution_count": 36,
   "metadata": {},
   "outputs": [
    {
     "data": {
      "text/plain": [
       "True"
      ]
     },
     "execution_count": 36,
     "metadata": {},
     "output_type": "execute_result"
    }
   ],
   "source": [
    "img = generate_img()\n",
    "# cv2.imshow('img', img)\n",
    "# cv2.waitKey(0)\n",
    "# cv2.destroyAllWindows()\n",
    "cv2.imwrite('img.png', img)"
   ]
  },
  {
   "cell_type": "code",
   "execution_count": 37,
   "metadata": {},
   "outputs": [],
   "source": [
    "frames = 3\n",
    "temp_dir = 'temp'"
   ]
  },
  {
   "cell_type": "code",
   "execution_count": 38,
   "metadata": {},
   "outputs": [],
   "source": [
    "for i in range(frames):\n",
    "    img = generate_img()\n",
    "    cv2.imwrite(os.path.join(temp_dir, f\"frame_{i}.png\"), img)"
   ]
  },
  {
   "cell_type": "code",
   "execution_count": 39,
   "metadata": {},
   "outputs": [
    {
     "name": "stderr",
     "output_type": "stream",
     "text": [
      "/tmp/ipykernel_196787/26498233.py:1: DeprecationWarning: Starting with ImageIO v3 the behavior of this function will switch to that of iio.v3.imread. To keep the current behavior (and make this warning disappear) use `import imageio.v2 as imageio` or call `imageio.v2.imread` directly.\n",
      "  images = [imageio.imread(os.path.join(temp_dir, f\"frame_{i}.png\")) for i in range(frames)]\n"
     ]
    }
   ],
   "source": [
    "images = [imageio.imread(os.path.join(temp_dir, f\"frame_{i}.png\")) for i in range(frames)]\n",
    "imageio.mimsave('salt_and_pepper.gif', images, loop=0, fps=10)"
   ]
  }
 ],
 "metadata": {
  "kernelspec": {
   "display_name": "find-square-L1MDu5bq-py3.11",
   "language": "python",
   "name": "python3"
  },
  "language_info": {
   "codemirror_mode": {
    "name": "ipython",
    "version": 3
   },
   "file_extension": ".py",
   "mimetype": "text/x-python",
   "name": "python",
   "nbconvert_exporter": "python",
   "pygments_lexer": "ipython3",
   "version": "3.10.12"
  },
  "orig_nbformat": 4
 },
 "nbformat": 4,
 "nbformat_minor": 2
}
