{
 "cells": [
  {
   "cell_type": "code",
   "execution_count": 52,
   "metadata": {},
   "outputs": [],
   "source": [
    "import cv2\n",
    "import numpy as np"
   ]
  },
  {
   "cell_type": "code",
   "execution_count": 53,
   "metadata": {},
   "outputs": [],
   "source": [
    "def remove_noise(img: np.ndarray, kernel_size: int = 3) -> np.ndarray:\n",
    "        \"\"\"\n",
    "        Remove salt and pepper noise from an image using median filtering.\n",
    "\n",
    "        Args:\n",
    "            image (np.ndarray): The noisy input image.\n",
    "            kernel_size (int): The size of the median filter kernel. Default is 3.\n",
    "\n",
    "        Returns:\n",
    "            np.ndarray: The cleaned image.\n",
    "        \"\"\"\n",
    "        cleaned_image = cv2.medianBlur(img, kernel_size)\n",
    "        cleaned_image = cv2.medianBlur(cleaned_image, kernel_size)\n",
    "\n",
    "        return cleaned_image\n",
    "\n",
    "def get_lines_intersections(img: np.ndarray):\n",
    "        \"\"\"\n",
    "        Find intersections of lines detected in the input image using the Hough Line Transform.\n",
    "\n",
    "        Args:\n",
    "            img (np.ndarray): Input image as a NumPy array.\n",
    "\n",
    "        Returns:\n",
    "            List[Tuple[int, int]]: A list of tuples containing (x, y) coordinates of intersections.\n",
    "        \"\"\"\n",
    "        img_canny = cv2.Canny(img, 50, 150, apertureSize=3)\n",
    "        lines = cv2.HoughLinesP(\n",
    "            img_canny, 1, np.pi / 180, threshold=10, minLineLength=10, maxLineGap=2\n",
    "        )\n",
    "\n",
    "        height, width = img.shape\n",
    "        # intersections = self.math_processor.find_intersections(lines, width, height)\n",
    "\n",
    "        img_res = cv2.cvtColor(img, cv2.COLOR_GRAY2BGR)\n",
    "        for line in lines:\n",
    "            x1, y1, x2, y2 = line[0]\n",
    "            cv2.line(img_res, (x1, y1), (x2, y2), (0, 0, 255), 2)\n",
    "        # for point in intersections:\n",
    "        #     cv2.circle(img_res, point, 2, (0, 255, 0), 1)\n",
    "        cv2.imshow(\"test\", img_res)\n",
    "        cv2.waitKey(0)\n",
    "        cv2.destroyAllWindows()\n",
    "\n",
    "        # return intersections"
   ]
  },
  {
   "cell_type": "code",
   "execution_count": 54,
   "metadata": {},
   "outputs": [],
   "source": [
    "img = cv2.imread('img_kek2.png', cv2.IMREAD_GRAYSCALE)\n",
    "img = remove_noise(img)\n",
    "_, img_thr = cv2.threshold(img, 128, 255, cv2.THRESH_BINARY)\n",
    "get_lines_intersections(img_thr)"
   ]
  }
 ],
 "metadata": {
  "kernelspec": {
   "display_name": "find-square-L1MDu5bq-py3.11",
   "language": "python",
   "name": "python3"
  },
  "language_info": {
   "codemirror_mode": {
    "name": "ipython",
    "version": 3
   },
   "file_extension": ".py",
   "mimetype": "text/x-python",
   "name": "python",
   "nbconvert_exporter": "python",
   "pygments_lexer": "ipython3",
   "version": "3.11.5"
  },
  "orig_nbformat": 4
 },
 "nbformat": 4,
 "nbformat_minor": 2
}
